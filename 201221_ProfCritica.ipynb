{
 "cells": [
  {
   "cell_type": "code",
   "execution_count": 1,
   "metadata": {},
   "outputs": [],
   "source": [
    "import numpy as np\n"
   ]
  },
  {
   "cell_type": "markdown",
   "metadata": {},
   "source": [
    "# **Flujo crítico y energía específica en canales**\n",
    "\n",
    "\n",
    "Los flujos en canales abiertos son típicamente turbulentos, es decir que su número de Reynolds usualmente estará por encima de 4000. No obstante, en este tipo de flujos se suele utilizar la relación entre las fuerzas inerciales y la fuerza de gravedad, mediante el número de Froude. Esta cantidad se define como: \n",
    "\n",
    "$Fr = \\frac{u}{\\sqrt{gL}}$\n",
    "\n",
    "Donde $Fr$ es el número de Froude, $u$ es la velocidad media del flujo, $g$ la aceleración de la gravedad y $L$ la longitud característica del flujo, que usualmente será la relación entre el área de la sección transversal $A$ y el ancho superficial del flujo $T$. De esta forma, se puede reescribir el número de Froude como: \n",
    "\n",
    "$Fr = \\frac{u}{\\sqrt{gD_h}}$\n",
    "\n",
    "De acuerdo con el valor del número de Froude, existen tres tipos de flujos de superficie libre: \n",
    "\n",
    "- $Fr < 1.0$ Flujo subcrítico: Predominan las fuerzas gravitacionales\n",
    "- $Fr = 1.0$ Flujo crítico: Las fuerzas gravitacionales e inerciales están balanceadas\n",
    "- $Fr > 1.0$ Flujo supercrítico: Las fuerzas inerciales predominan sobre las gravitacionales\n",
    "\n",
    "En la hidráulica de flujos a superficie libre es de suma importancia conocer la sección transversal en la que un flujo será crítico dependiendo del caudal que vaya a ser transportado. De esta forma, utilizando la ecaución de continuidad $Q = uA$, recordando que $D_h = A / T$ e igualando el número de Froude a $1.0$ se puede encontrar la profundidad de la sección crítica. \n",
    "\n",
    "$Fr = \\frac{Q}{A \\sqrt{gD_h}}$ \n",
    "\n",
    "$Fr^2 = \\frac{Q^2}{A^2gD_h}$\n",
    "\n",
    "$Fr^2 = \\frac{Q^2 T}{A^3 g}$\n",
    "\n",
    "$Q^2 T = A^3 g$      \n",
    "\n",
    "$Q^2 T(y) = A(y)^3g$\n",
    "\n",
    "Dependiendo de la sección transversal, las expresiones para $A$ y $T$ variarán (ver imagen 1). De esta forma, se puede proceder a despejar la prfundidad crítica de flujo $y_c$ o a utilizar algún método numérico para encontrarla. El presente notebook mostrará las profundidades críticas de secciones transversales triangulares, rectangulares, trapezoidales y circulares.\n",
    "\n",
    "<img src=\"201221_SeccionesTransversales.png\" alt=\"fishy\" class=\"bg-primary mb-1\" height=\"100px\">\n",
    "\n",
    "**Figura 1:** Expresiones para diferentes características geométricas de diferentes secciones transversales (Fuente: Osman, 2006).\n",
    "\n",
    "1. Definir el número de Froude y por qué es importante\n",
    "\n",
    "2. Mostrar que en condiciones ideales se puede calcvular el número de Froude teniendo en cuenta la geometría del canal y el caudal transportado por la misma. \n",
    "\n",
    "3. "
   ]
  },
  {
   "cell_type": "code",
   "execution_count": null,
   "metadata": {},
   "outputs": [],
   "source": []
  }
 ],
 "metadata": {
  "kernelspec": {
   "display_name": "Python 3",
   "language": "python",
   "name": "python3"
  },
  "language_info": {
   "codemirror_mode": {
    "name": "ipython",
    "version": 3
   },
   "file_extension": ".py",
   "mimetype": "text/x-python",
   "name": "python",
   "nbconvert_exporter": "python",
   "pygments_lexer": "ipython3",
   "version": "3.8.5"
  }
 },
 "nbformat": 4,
 "nbformat_minor": 4
}
