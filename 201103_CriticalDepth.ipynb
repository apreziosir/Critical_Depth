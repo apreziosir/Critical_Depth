{
 "cells": [
  {
   "cell_type": "code",
   "execution_count": 1,
   "metadata": {},
   "outputs": [],
   "source": [
    "# Internal python libraries\n",
    "import numpy as np\n",
    "import matplotlib.pyplot as plt\n",
    "\n",
    "# Esto controla el tamaño de las figuras en el script \n",
    "plt.rcParams['figure.figsize'] = (10, 10)\n",
    "\n",
    "import ipywidgets as ipw\n",
    "from ipywidgets import widgets, interact_manual\n",
    "from IPython.display import Image\n",
    "\n",
    "# Esto es para poder correr todo en linea\n",
    "ipw.interact_manual.opts['manual_name'] = \"CALCULAR!\"\n",
    "np.set_printoptions(formatter={'float': '{: 0.3f}'.format})"
   ]
  },
  {
   "cell_type": "code",
   "execution_count": 2,
   "metadata": {},
   "outputs": [],
   "source": [
    "def RUN_ALL(ST):\n",
    "    \n",
    "    # Definiciones generales que sirven para cualquiera de las cosas que se llamen acá\n",
    "    DESCR=[r\"Q $(m^3/s)$\", r\"m\", r\"b $(m)$\", r\"D_0 $(m)$\" ]\n",
    "    # Seccion triangular\n",
    "    if ST == \"Triangular\":\n",
    "        \n",
    "        from Functions import Triang\n",
    "        \n",
    "        interact_manual(Triang, \\\n",
    "           Q=widgets.FloatText(description=DESCR[0], min=0, max=10, value=0.5 , readout_format='E'),\\\n",
    "           m=widgets.FloatText(description=DESCR[1], min=0, max=10, value=1 , readout_format='E'));\n",
    "        \n",
    "    # Seccion rectangular\n",
    "    elif ST == \"Rectangular\":\n",
    "        \n",
    "        from Functions import Rect\n",
    "        \n",
    "        interact_manual(Rect, \\\n",
    "           Q=widgets.FloatText(description=DESCR[0], min=0, max=10, value=0.5 , readout_format='E'),\\\n",
    "           b=widgets.FloatText(description=DESCR[2], min=0, max=10, value=1 , readout_format='E'));\n",
    "        \n",
    "    # Seccion trapezoidal\n",
    "    elif ST == \"Trapezoidal\":\n",
    "        \n",
    "        from Functions import Trapez\n",
    "        \n",
    "        interact_manual(Trapez, \\\n",
    "           Q=widgets.FloatText(description=DESCR[0], min=0, max=10, value=0.5 , readout_format='E'),\\\n",
    "           m=widgets.FloatText(description=DESCR[1], min=0, max=10, value=1 , readout_format='E'), \\\n",
    "           b=widgets.FloatText(description=DESCR[2], min=0, max=10, value=1 , readout_format='E'));\n",
    "    # Sección circular\n",
    "    elif ST == \"Circular\":\n",
    "        \n",
    "        from Functions import Circ\n",
    "        \n",
    "        interact_manual(Circ, \\\n",
    "           Q=widgets.FloatText(description=DESCR[0], min=0, max=10, value=0.5 , readout_format='E'),\\\n",
    "           d0=widgets.FloatText(description=DESCR[1], min=0, max=10, value=2 , readout_format='E'));\n",
    "    \n",
    "    return "
   ]
  },
  {
   "cell_type": "code",
   "execution_count": 3,
   "metadata": {},
   "outputs": [
    {
     "data": {
      "application/vnd.jupyter.widget-view+json": {
       "model_id": "6be138e22751408e99f4166727d634cd",
       "version_major": 2,
       "version_minor": 0
      },
      "text/plain": [
       "interactive(children=(Dropdown(description='Sección:', options=('Triangular', 'Rectangular', 'Trapezoidal', 'C…"
      ]
     },
     "metadata": {},
     "output_type": "display_data"
    },
    {
     "data": {
      "text/plain": [
       "<function __main__.RUN_ALL(ST)>"
      ]
     },
     "execution_count": 3,
     "metadata": {},
     "output_type": "execute_result"
    }
   ],
   "source": [
    "# ===========================================================================\n",
    "# Primera función para seleccionar la fomra geométrica de la sección trans-\n",
    "# versal con la que trabajará el programa\n",
    "# ===========================================================================\n",
    "\n",
    "# Descripción de la lista desplegable \n",
    "select = [\"Triangular\", \"Rectangular\", \"Trapezoidal\", \"Circular\"]\n",
    "\n",
    "# Correr todo y poner los sliders en la pantalla\n",
    "interact_manual(RUN_ALL, ST=widgets.Dropdown(options = select, description = \"Sección:\"))"
   ]
  }
 ],
 "metadata": {
  "kernelspec": {
   "display_name": "Python 3",
   "language": "python",
   "name": "python3"
  },
  "language_info": {
   "codemirror_mode": {
    "name": "ipython",
    "version": 3
   },
   "file_extension": ".py",
   "mimetype": "text/x-python",
   "name": "python",
   "nbconvert_exporter": "python",
   "pygments_lexer": "ipython3",
   "version": "3.8.5"
  }
 },
 "nbformat": 4,
 "nbformat_minor": 4
}
